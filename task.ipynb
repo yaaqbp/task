{
 "cells": [
  {
   "cell_type": "markdown",
   "metadata": {},
   "source": [
    "\n",
    "### Zadanie 1\n",
    "\n",
    "napisz rozszerzenie tej klasy (nowa klasa), która rozszerza działanie metody process tak, że w wyniku pojawi się dodatkowo krotka ('extension', True)\n"
   ]
  },
  {
   "cell_type": "code",
   "execution_count": 42,
   "metadata": {},
   "outputs": [],
   "source": [
    "from typing import Optional\n",
    "\n",
    "class Processor:\n",
    "    def process(self, dta: Optional[dict]) -> tuple:\n",
    "        return tuple(dta.items() or {})\n",
    "    \n",
    "class BetterProcessor(Processor):\n",
    "    def process(self, dta: Optional[dict]) -> tuple:\n",
    "        return super().process(dta) + (('extension', True),)"
   ]
  },
  {
   "cell_type": "markdown",
   "metadata": {},
   "source": [
    "### Zadanie 2:\n",
    "\n",
    "mając kod:\n",
    "\n",
    "``` print(0.1 * 0.1)```\n",
    "\n",
    "co zwróci? dlaczego tak a nie inaczej?\n",
    "\n",
    "jak zrobić by było dobrze, dla tego przypadku i dla innych\n",
    "\n",
    "pytanie bonusowe: jak powinno się poprawnie operować na liczbach zmiennoprzecinkowych w księgowości i jakie są sposoby zaokrągleń\n"
   ]
  },
  {
   "cell_type": "code",
   "execution_count": 55,
   "metadata": {},
   "outputs": [
    {
     "name": "stdout",
     "output_type": "stream",
     "text": [
      "0.010000000000000002\n"
     ]
    }
   ],
   "source": [
    "print(0.1 * 0.1)"
   ]
  },
  {
   "cell_type": "markdown",
   "metadata": {},
   "source": [
    "wynik != 0.01 wynika z reprezentacji liczb zmiennoprzecinkowych w systemie binarnym - tzn. zawsze są one pewnym przyblizeniem. Rozwiązaniem dobrym pod kątem księgowości i unikania tego typu błędów jest wykorzystanie biblioteki decimal:"
   ]
  },
  {
   "cell_type": "code",
   "execution_count": 58,
   "metadata": {},
   "outputs": [
    {
     "name": "stdout",
     "output_type": "stream",
     "text": [
      "0.01\n"
     ]
    }
   ],
   "source": [
    "from decimal import Decimal, \n",
    "\n",
    "print(Decimal('0.1') * Decimal('0.1'))"
   ]
  },
  {
   "cell_type": "markdown",
   "metadata": {},
   "source": [
    "Najpopularniejsza do zaokrąglania jest wbudwana funkcja round(), która jako drugi argument przyjmuje liczbę miejść po przecinku (0 dla liczb całkowitych). <br>\n",
    "Dokładniejsze funkcję do zaokrąglania oferuje biblioteka decimal"
   ]
  },
  {
   "cell_type": "code",
   "execution_count": 79,
   "metadata": {},
   "outputs": [
    {
     "name": "stdout",
     "output_type": "stream",
     "text": [
      "1.0\n",
      "0\n"
     ]
    }
   ],
   "source": [
    "from decimal import ROUND_DOWN\n",
    "print(round(0.91, 0))\n",
    "\n",
    "amount = Decimal('0.91')\n",
    "rounded_amount = amount.quantize(Decimal('1'), rounding=ROUND_DOWN)\n",
    "print(rounded_amount)"
   ]
  },
  {
   "cell_type": "markdown",
   "metadata": {},
   "source": [
    "### Zadanie 3:\n",
    "\n",
    "Określ, na przykładach, czym się różnią i jakie jest zastosowanie bytes i string, opcjonalnie: czym jest kodowanie znaków\n"
   ]
  },
  {
   "cell_type": "code",
   "execution_count": 82,
   "metadata": {},
   "outputs": [],
   "source": [
    "sample_bytes = b'sample_bytes'\n",
    "\n",
    "sample_string = 'sample_string'"
   ]
  },
  {
   "cell_type": "code",
   "execution_count": 94,
   "metadata": {},
   "outputs": [
    {
     "name": "stdout",
     "output_type": "stream",
     "text": [
      "sample_bytes variable type: <class 'bytes'>\n",
      "sample_bytes variable type decoded to utf-8 :<class 'str'>\n",
      "\n",
      "\n",
      "sample_string variable type: <class 'str'>\n",
      "sample_string variable type encoded from utf-8 :<class 'bytes'>\n"
     ]
    }
   ],
   "source": [
    "print(f'sample_bytes variable type: {type(sample_bytes)}')\n",
    "print(f'sample_bytes variable type decoded to utf-8 :{type(sample_bytes.decode(\"utf-8\"))}')\n",
    "print('\\n')\n",
    "print(f'sample_string variable type: {type(sample_string)}')\n",
    "print(f'sample_string variable type encoded from utf-8 :{type(sample_string.encode(\"utf-8\"))}')"
   ]
  },
  {
   "cell_type": "markdown",
   "metadata": {},
   "source": [
    "bytes są używane do reprezentacji surowych danych binarnych.\n",
    "\n",
    "str służy do reprezentacji ciągu znaków tekstowych, a kodowanie znaków wpływa na sposób, w jaki te znaki są reprezentowane w postaci bajtów.\n",
    "\n",
    "Kodowanie znaków w Pythonie odnosi się do przypisywania numerycznych wartości znakom tekstowym, umożliwiając ich reprezentację w komputerze. \n",
    "\n",
    "Popularne kodowania to UTF-8 i ASCII. Umożliwiają one przechowywanie, przesyłanie i przetwarzanie tekstu w różnych językach oraz znakach specjalnych."
   ]
  }
 ],
 "metadata": {
  "kernelspec": {
   "display_name": "base2",
   "language": "python",
   "name": "python3"
  },
  "language_info": {
   "codemirror_mode": {
    "name": "ipython",
    "version": 3
   },
   "file_extension": ".py",
   "mimetype": "text/x-python",
   "name": "python",
   "nbconvert_exporter": "python",
   "pygments_lexer": "ipython3",
   "version": "3.10.8"
  }
 },
 "nbformat": 4,
 "nbformat_minor": 2
}
